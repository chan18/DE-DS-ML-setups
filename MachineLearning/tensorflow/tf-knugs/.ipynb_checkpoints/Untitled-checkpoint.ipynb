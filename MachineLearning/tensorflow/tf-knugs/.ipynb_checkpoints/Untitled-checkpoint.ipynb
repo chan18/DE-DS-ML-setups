{
 "cells": [
  {
   "cell_type": "code",
   "execution_count": null,
   "id": "cab54152-da6a-476f-bbb9-7b9254a0d682",
   "metadata": {},
   "outputs": [],
   "source": [
    "import tensorflow as tf"
   ]
  },
  {
   "cell_type": "code",
   "execution_count": null,
   "id": "420d643b-50a3-4123-8977-ef67949bae15",
   "metadata": {},
   "outputs": [],
   "source": []
  }
 ],
 "metadata": {
  "kernelspec": {
   "display_name": "Python 3 (ipykernel)",
   "language": "python",
   "name": "python3"
  },
  "language_info": {
   "codemirror_mode": {
    "name": "ipython",
    "version": 3
   },
   "file_extension": ".py",
   "mimetype": "text/x-python",
   "name": "python",
   "nbconvert_exporter": "python",
   "pygments_lexer": "ipython3",
   "version": "3.11.0rc1"
  }
 },
 "nbformat": 4,
 "nbformat_minor": 5
}
